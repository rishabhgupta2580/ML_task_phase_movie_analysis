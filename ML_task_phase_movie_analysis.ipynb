{
 "cells": [
  {
   "cell_type": "code",
   "execution_count": 4,
   "metadata": {},
   "outputs": [
    {
     "name": "stdout",
     "output_type": "stream",
     "text": [
      "   movieId                               title  \\\n",
      "0        1                    Toy Story (1995)   \n",
      "1        2                      Jumanji (1995)   \n",
      "2        3             Grumpier Old Men (1995)   \n",
      "3        4            Waiting to Exhale (1995)   \n",
      "4        5  Father of the Bride Part II (1995)   \n",
      "\n",
      "                                        genres  \n",
      "0  Adventure|Animation|Children|Comedy|Fantasy  \n",
      "1                   Adventure|Children|Fantasy  \n",
      "2                               Comedy|Romance  \n",
      "3                         Comedy|Drama|Romance  \n",
      "4                                       Comedy  \n",
      "   userId  movieId  rating   timestamp\n",
      "0       1       16     4.0  1217897793\n",
      "1       1       24     1.5  1217895807\n",
      "2       1       32     4.0  1217896246\n",
      "3       1       47     4.0  1217896556\n",
      "4       1       50     4.0  1217896523\n"
     ]
    }
   ],
   "source": [
    "#importing important libararies \n",
    "import numpy as np\n",
    "import pandas as pd \n",
    "import nltk\n",
    "\n",
    "movies_df=pd.read_csv('movies.csv')\n",
    "rating_df=pd.read_csv('ratings.csv')\n",
    "print(movies_df.head())\n",
    "print(rating_df.head())"
   ]
  },
  {
   "cell_type": "code",
   "execution_count": 5,
   "metadata": {},
   "outputs": [
    {
     "name": "stdout",
     "output_type": "stream",
     "text": [
      "30987\n",
      "421356\n"
     ]
    }
   ],
   "source": [
    "print(movies_df.size)\n",
    "print(rating_df.size)"
   ]
  },
  {
   "cell_type": "code",
   "execution_count": 22,
   "metadata": {},
   "outputs": [
    {
     "name": "stdout",
     "output_type": "stream",
     "text": [
      "        movieId                                title  \\\n",
      "0             1                     Toy Story (1995)   \n",
      "232           2                       Jumanji (1995)   \n",
      "324           3              Grumpier Old Men (1995)   \n",
      "382           4             Waiting to Exhale (1995)   \n",
      "393           5   Father of the Bride Part II (1995)   \n",
      "...         ...                                  ...   \n",
      "105332   146684        Cosmic Scrat-tastrophe (2015)   \n",
      "105333   146878           Le Grand Restaurant (1966)   \n",
      "105334   148238       A Very Murray Christmas (2015)   \n",
      "105335   148626                 The Big Short (2015)   \n",
      "105338   149532  Marco Polo: One Hundred Eyes (2015)   \n",
      "\n",
      "                                             genres  userId  rating  \\\n",
      "0       Adventure|Animation|Children|Comedy|Fantasy       2     5.0   \n",
      "232                      Adventure|Children|Fantasy      16     3.0   \n",
      "324                                  Comedy|Romance       2     2.0   \n",
      "382                            Comedy|Drama|Romance      80     3.5   \n",
      "393                                          Comedy       2     3.0   \n",
      "...                                             ...     ...     ...   \n",
      "105332                    Animation|Children|Comedy     622     4.0   \n",
      "105333                                       Comedy     622     2.5   \n",
      "105334                                       Comedy     475     3.0   \n",
      "105335                                        Drama     458     4.0   \n",
      "105338                           (no genres listed)     475     4.0   \n",
      "\n",
      "         timestamp  \n",
      "0        859046895  \n",
      "232      849188326  \n",
      "324      859046959  \n",
      "382     1253152402  \n",
      "393      859046959  \n",
      "...            ...  \n",
      "105332  1447456554  \n",
      "105333  1447514637  \n",
      "105334  1451213043  \n",
      "105335  1452014749  \n",
      "105338  1451223429  \n",
      "\n",
      "[10323 rows x 6 columns]\n",
      "61938\n"
     ]
    }
   ],
   "source": [
    "# merging two dataframes on movieId\n",
    "\n",
    "#Cleaning the data \n",
    "\n",
    "# droping the duplicate columns\n",
    "# droping the rows with nan values\n",
    "movies_final_df=pd.merge(movies_df,rating_df, on='movieId')\n",
    "movies_final_df= movies_final_df.drop_duplicates(subset='title')\n",
    "movies_final_df.dropna()\n",
    "print(movies_final_df)\n",
    "print(movies_final_df.size)"
   ]
  },
  {
   "cell_type": "code",
   "execution_count": 28,
   "metadata": {},
   "outputs": [
    {
     "name": "stdout",
     "output_type": "stream",
     "text": [
      "        movieId                                title  \\\n",
      "0             1                     toy story (1995)   \n",
      "232           2                       jumanji (1995)   \n",
      "324           3              grumpier old men (1995)   \n",
      "382           4             waiting to exhale (1995)   \n",
      "393           5   father of the bride part ii (1995)   \n",
      "...         ...                                  ...   \n",
      "105332   146684        cosmic scrat-tastrophe (2015)   \n",
      "105333   146878           le grand restaurant (1966)   \n",
      "105334   148238       a very murray christmas (2015)   \n",
      "105335   148626                 the big short (2015)   \n",
      "105338   149532  marco polo: one hundred eyes (2015)   \n",
      "\n",
      "                                             genres  userId  rating  \\\n",
      "0       adventure|animation|children|comedy|fantasy       2     5.0   \n",
      "232                      adventure|children|fantasy      16     3.0   \n",
      "324                                  comedy|romance       2     2.0   \n",
      "382                            comedy|drama|romance      80     3.5   \n",
      "393                                          comedy       2     3.0   \n",
      "...                                             ...     ...     ...   \n",
      "105332                    animation|children|comedy     622     4.0   \n",
      "105333                                       comedy     622     2.5   \n",
      "105334                                       comedy     475     3.0   \n",
      "105335                                        drama     458     4.0   \n",
      "105338                           (no genres listed)     475     4.0   \n",
      "\n",
      "         timestamp  \n",
      "0        859046895  \n",
      "232      849188326  \n",
      "324      859046959  \n",
      "382     1253152402  \n",
      "393      859046959  \n",
      "...            ...  \n",
      "105332  1447456554  \n",
      "105333  1447514637  \n",
      "105334  1451213043  \n",
      "105335  1452014749  \n",
      "105338  1451223429  \n",
      "\n",
      "[10323 rows x 6 columns]\n",
      "61938\n"
     ]
    }
   ],
   "source": [
    "# making Lower case title and genres \n",
    "movies_final_df['title'] = movies_final_df['title'].str.lower()\n",
    "movies_final_df['genres'] = movies_final_df['genres'].str.lower()\n",
    "\n",
    "print(movies_final_df)\n",
    "print(movies_final_df.size)"
   ]
  },
  {
   "cell_type": "code",
   "execution_count": 36,
   "metadata": {},
   "outputs": [
    {
     "name": "stdout",
     "output_type": "stream",
     "text": [
      "0      adventure animation children comedy fantasy\n",
      "232                     adventure children fantasy\n",
      "324                                 comedy romance\n",
      "382                           comedy drama romance\n",
      "393                                         comedy\n",
      "Name: genres, dtype: object\n"
     ]
    }
   ],
   "source": [
    "#replacing the '|' with '' in the column genres so that it can be easily tokenized\n",
    "movies_final_df.genres = movies_final_df.genres.str.replace('|' , '')\n",
    "print(movies_final_df.genres.head())"
   ]
  },
  {
   "cell_type": "code",
   "execution_count": 43,
   "metadata": {},
   "outputs": [
    {
     "name": "stdout",
     "output_type": "stream",
     "text": [
      "0      [adventure, animation, children, comedy, fantasy]\n",
      "232                       [adventure, children, fantasy]\n",
      "324                                    [comedy, romance]\n",
      "382                             [comedy, drama, romance]\n",
      "393                                             [comedy]\n",
      "Name: tokenized_genres, dtype: object\n",
      "     movieId                               title  \\\n",
      "0          1                    toy story (1995)   \n",
      "232        2                      jumanji (1995)   \n",
      "324        3             grumpier old men (1995)   \n",
      "382        4            waiting to exhale (1995)   \n",
      "393        5  father of the bride part ii (1995)   \n",
      "\n",
      "                                          genres  userId  rating   timestamp  \\\n",
      "0    adventure animation children comedy fantasy       2     5.0   859046895   \n",
      "232                   adventure children fantasy      16     3.0   849188326   \n",
      "324                               comedy romance       2     2.0   859046959   \n",
      "382                         comedy drama romance      80     3.5  1253152402   \n",
      "393                                       comedy       2     3.0   859046959   \n",
      "\n",
      "                                      tokenized_genres  \n",
      "0    [adventure, animation, children, comedy, fantasy]  \n",
      "232                     [adventure, children, fantasy]  \n",
      "324                                  [comedy, romance]  \n",
      "382                           [comedy, drama, romance]  \n",
      "393                                           [comedy]  \n"
     ]
    }
   ],
   "source": [
    "#tokenizing the sentence\n",
    "movies_final_df['tokenized_genres'] = movies_final_df.apply(lambda row: nltk.word_tokenize(row['genres']), axis=1)\n",
    "print(movies_final_df.tokenized_genres.head())\n",
    "print(movies_final_df.head())"
   ]
  },
  {
   "cell_type": "code",
   "execution_count": 73,
   "metadata": {},
   "outputs": [],
   "source": [
    "# Import TfidfVectorizer to create TF-IDF vectors\n",
    "from sklearn.feature_extraction.text import TfidfVectorizer\n",
    "v= TfidfVectorizer()"
   ]
  },
  {
   "cell_type": "code",
   "execution_count": 89,
   "metadata": {},
   "outputs": [
    {
     "name": "stderr",
     "output_type": "stream",
     "text": [
      "C:\\Users\\Rishabh Gupta\\anaconda3\\lib\\site-packages\\ipykernel_launcher.py:6: SettingWithCopyWarning: \n",
      "A value is trying to be set on a copy of a slice from a DataFrame\n",
      "\n",
      "See the caveats in the documentation: https://pandas.pydata.org/pandas-docs/stable/user_guide/indexing.html#returning-a-view-versus-a-copy\n",
      "  \n",
      "C:\\Users\\Rishabh Gupta\\anaconda3\\lib\\site-packages\\ipykernel_launcher.py:7: SettingWithCopyWarning: \n",
      "A value is trying to be set on a copy of a slice from a DataFrame\n",
      "\n",
      "See the caveats in the documentation: https://pandas.pydata.org/pandas-docs/stable/user_guide/indexing.html#returning-a-view-versus-a-copy\n",
      "  import sys\n"
     ]
    },
    {
     "name": "stdout",
     "output_type": "stream",
     "text": [
      "     movieId                               title  \\\n",
      "0          1                    toy story (1995)   \n",
      "232        2                      jumanji (1995)   \n",
      "324        3             grumpier old men (1995)   \n",
      "382        4            waiting to exhale (1995)   \n",
      "393        5  father of the bride part ii (1995)   \n",
      "\n",
      "                                                genres  userId  rating  \\\n",
      "0    [0.0, 0.40401758763724127, 0.5394433018900108,...       2     5.0   \n",
      "232  [0.0, 0.5052605182418256, 0.0, 0.6270688431080...      16     3.0   \n",
      "324  [0.0, 0.0, 0.0, 0.0, 0.6024291579702036, 0.0, ...       2     2.0   \n",
      "382  [0.0, 0.0, 0.0, 0.0, 0.5414462868301578, 0.0, ...      80     3.5   \n",
      "393  [0.0, 0.0, 0.0, 0.0, 1.0, 0.0, 0.0, 0.0, 0.0, ...       2     3.0   \n",
      "\n",
      "      timestamp                                   tokenized_genres  \\\n",
      "0     859046895  [adventure, animation, children, comedy, fantasy]   \n",
      "232   849188326                     [adventure, children, fantasy]   \n",
      "324   859046959                                  [comedy, romance]   \n",
      "382  1253152402                           [comedy, drama, romance]   \n",
      "393   859046959                                           [comedy]   \n",
      "\n",
      "                                     string_genre  cluster  genres_count  \n",
      "0    adventure,animation,children,comedy,fantasy,        0           5.0  \n",
      "232                   adventure,children,fantasy,        0           3.0  \n",
      "324                               comedy,romance,        1           2.0  \n",
      "382                         comedy,drama,romance,        1           3.0  \n",
      "393                                       comedy,        2           1.0  \n"
     ]
    }
   ],
   "source": [
    "for i in movies_final_df.index:\n",
    "    string_genre = \"\"\n",
    "    for j in movies_final_df['tokenized_genres'][i]:\n",
    "        string_genre += j \n",
    "        string_genre += \",\"\n",
    "    movies_final_df['string_genre'][i] = string_genre\n",
    "    movies_final_df['genres_count'][i] = len(movies_final_df['tokenized_genres'][i])\n",
    "    \n",
    "print(movies_final_df.head())"
   ]
  },
  {
   "cell_type": "code",
   "execution_count": 76,
   "metadata": {},
   "outputs": [
    {
     "name": "stdout",
     "output_type": "stream",
     "text": [
      "  (0, 8)\t0.4740731891472358\n",
      "  (0, 4)\t0.26382772773521923\n",
      "  (0, 3)\t0.5014182429226395\n",
      "  (0, 2)\t0.5394433018900108\n",
      "  (0, 1)\t0.40401758763724127\n"
     ]
    }
   ],
   "source": [
    "# Fit and transform the tfidf_vectorizer with the genres of each movie\n",
    "tfidf_matrix = v.fit_transform(movies_final_df['string_genre'])\n",
    "print(tfidf_matrix[0])"
   ]
  },
  {
   "cell_type": "code",
   "execution_count": 88,
   "metadata": {},
   "outputs": [
    {
     "data": {
      "text/plain": [
       "0    3903\n",
       "3    1928\n",
       "2    1876\n",
       "1    1619\n",
       "4     997\n",
       "Name: cluster, dtype: int64"
      ]
     },
     "execution_count": 88,
     "metadata": {},
     "output_type": "execute_result"
    }
   ],
   "source": [
    "#using kmeans clustering to \n",
    "from sklearn.cluster import KMeans\n",
    "km = KMeans(n_clusters=5)\n",
    "km.fit(tfidf_matrix)\n",
    "\n",
    "clusters = km.labels_.tolist()\n",
    "\n",
    "# Create a column cluster to denote the generated cluster for each movie\n",
    "movies_final_df[\"cluster\"] = clusters\n",
    "# Display number of films per cluster (clusters from 0 to 8)\n",
    "movies_final_df['cluster'].value_counts() "
   ]
  },
  {
   "cell_type": "code",
   "execution_count": 93,
   "metadata": {},
   "outputs": [
    {
     "data": {
      "text/html": [
       "<div>\n",
       "<style scoped>\n",
       "    .dataframe tbody tr th:only-of-type {\n",
       "        vertical-align: middle;\n",
       "    }\n",
       "\n",
       "    .dataframe tbody tr th {\n",
       "        vertical-align: top;\n",
       "    }\n",
       "\n",
       "    .dataframe thead th {\n",
       "        text-align: right;\n",
       "    }\n",
       "</style>\n",
       "<table border=\"1\" class=\"dataframe\">\n",
       "  <thead>\n",
       "    <tr style=\"text-align: right;\">\n",
       "      <th></th>\n",
       "      <th>movieId</th>\n",
       "      <th>title</th>\n",
       "      <th>genres</th>\n",
       "      <th>userId</th>\n",
       "      <th>rating</th>\n",
       "      <th>timestamp</th>\n",
       "      <th>tokenized_genres</th>\n",
       "      <th>string_genre</th>\n",
       "      <th>cluster</th>\n",
       "      <th>genres_count</th>\n",
       "    </tr>\n",
       "  </thead>\n",
       "  <tbody>\n",
       "    <tr>\n",
       "      <th>100406</th>\n",
       "      <td>81132</td>\n",
       "      <td>rubber (2010)</td>\n",
       "      <td>[0.2373243158663711, 0.2713954236595731, 0.0, ...</td>\n",
       "      <td>475</td>\n",
       "      <td>3.0</td>\n",
       "      <td>1314524206</td>\n",
       "      <td>[action, adventure, comedy, crime, drama, film...</td>\n",
       "      <td>action,adventure,comedy,crime,drama,film-noir,...</td>\n",
       "      <td>0</td>\n",
       "      <td>10.0</td>\n",
       "    </tr>\n",
       "    <tr>\n",
       "      <th>99509</th>\n",
       "      <td>76153</td>\n",
       "      <td>lupin iii: first contact (rupan sansei: faasut...</td>\n",
       "      <td>[0.333208883273989, 0.0, 0.5087710456264056, 0...</td>\n",
       "      <td>475</td>\n",
       "      <td>4.0</td>\n",
       "      <td>1305330334</td>\n",
       "      <td>[action, animation, comedy, crime, drama, myst...</td>\n",
       "      <td>action,animation,comedy,crime,drama,mystery,ro...</td>\n",
       "      <td>0</td>\n",
       "      <td>8.0</td>\n",
       "    </tr>\n",
       "    <tr>\n",
       "      <th>87617</th>\n",
       "      <td>26701</td>\n",
       "      <td>patlabor: the movie (kidô keisatsu patorebâ: t...</td>\n",
       "      <td>[0.24269919005759036, 0.0, 0.37057331570824, 0...</td>\n",
       "      <td>475</td>\n",
       "      <td>3.0</td>\n",
       "      <td>1339949519</td>\n",
       "      <td>[action, animation, crime, drama, film-noir, m...</td>\n",
       "      <td>action,animation,crime,drama,film-noir,mystery...</td>\n",
       "      <td>0</td>\n",
       "      <td>8.0</td>\n",
       "    </tr>\n",
       "    <tr>\n",
       "      <th>99421</th>\n",
       "      <td>75408</td>\n",
       "      <td>lupin iii: sweet lost night (rupan sansei: swe...</td>\n",
       "      <td>[0.333208883273989, 0.0, 0.5087710456264056, 0...</td>\n",
       "      <td>475</td>\n",
       "      <td>2.5</td>\n",
       "      <td>1305328872</td>\n",
       "      <td>[action, animation, comedy, crime, drama, myst...</td>\n",
       "      <td>action,animation,comedy,crime,drama,mystery,ro...</td>\n",
       "      <td>0</td>\n",
       "      <td>8.0</td>\n",
       "    </tr>\n",
       "    <tr>\n",
       "      <th>59398</th>\n",
       "      <td>2987</td>\n",
       "      <td>who framed roger rabbit? (1988)</td>\n",
       "      <td>[0.0, 0.34568100183414024, 0.461552434191275, ...</td>\n",
       "      <td>4</td>\n",
       "      <td>5.0</td>\n",
       "      <td>950324532</td>\n",
       "      <td>[adventure, animation, children, comedy, crime...</td>\n",
       "      <td>adventure,animation,children,comedy,crime,fant...</td>\n",
       "      <td>0</td>\n",
       "      <td>7.0</td>\n",
       "    </tr>\n",
       "    <tr>\n",
       "      <th>...</th>\n",
       "      <td>...</td>\n",
       "      <td>...</td>\n",
       "      <td>...</td>\n",
       "      <td>...</td>\n",
       "      <td>...</td>\n",
       "      <td>...</td>\n",
       "      <td>...</td>\n",
       "      <td>...</td>\n",
       "      <td>...</td>\n",
       "      <td>...</td>\n",
       "    </tr>\n",
       "    <tr>\n",
       "      <th>101431</th>\n",
       "      <td>87485</td>\n",
       "      <td>bad teacher (2011)</td>\n",
       "      <td>[0.0, 0.0, 0.0, 0.0, 1.0, 0.0, 0.0, 0.0, 0.0, ...</td>\n",
       "      <td>224</td>\n",
       "      <td>0.5</td>\n",
       "      <td>1428133228</td>\n",
       "      <td>[comedy]</td>\n",
       "      <td>comedy,</td>\n",
       "      <td>2</td>\n",
       "      <td>1.0</td>\n",
       "    </tr>\n",
       "    <tr>\n",
       "      <th>103118</th>\n",
       "      <td>99106</td>\n",
       "      <td>guilt trip, the (2012)</td>\n",
       "      <td>[0.0, 0.0, 0.0, 0.0, 1.0, 0.0, 0.0, 0.0, 0.0, ...</td>\n",
       "      <td>642</td>\n",
       "      <td>0.5</td>\n",
       "      <td>1439772676</td>\n",
       "      <td>[comedy]</td>\n",
       "      <td>comedy,</td>\n",
       "      <td>2</td>\n",
       "      <td>1.0</td>\n",
       "    </tr>\n",
       "    <tr>\n",
       "      <th>103873</th>\n",
       "      <td>106062</td>\n",
       "      <td>jackass presents: bad grandpa (2013)</td>\n",
       "      <td>[0.0, 0.0, 0.0, 0.0, 1.0, 0.0, 0.0, 0.0, 0.0, ...</td>\n",
       "      <td>642</td>\n",
       "      <td>0.5</td>\n",
       "      <td>1439772279</td>\n",
       "      <td>[comedy]</td>\n",
       "      <td>comedy,</td>\n",
       "      <td>2</td>\n",
       "      <td>1.0</td>\n",
       "    </tr>\n",
       "    <tr>\n",
       "      <th>104499</th>\n",
       "      <td>112497</td>\n",
       "      <td>tammy (2014)</td>\n",
       "      <td>[0.0, 0.0, 0.0, 0.0, 1.0, 0.0, 0.0, 0.0, 0.0, ...</td>\n",
       "      <td>642</td>\n",
       "      <td>0.5</td>\n",
       "      <td>1439772937</td>\n",
       "      <td>[comedy]</td>\n",
       "      <td>comedy,</td>\n",
       "      <td>2</td>\n",
       "      <td>1.0</td>\n",
       "    </tr>\n",
       "    <tr>\n",
       "      <th>104996</th>\n",
       "      <td>121308</td>\n",
       "      <td>goodbye to language 3d (2014)</td>\n",
       "      <td>[0.0, 0.0, 0.0, 0.0, 0.0, 0.0, 0.0, 1.0, 0.0, ...</td>\n",
       "      <td>668</td>\n",
       "      <td>0.5</td>\n",
       "      <td>1431030402</td>\n",
       "      <td>[drama]</td>\n",
       "      <td>drama,</td>\n",
       "      <td>3</td>\n",
       "      <td>1.0</td>\n",
       "    </tr>\n",
       "  </tbody>\n",
       "</table>\n",
       "<p>10323 rows × 10 columns</p>\n",
       "</div>"
      ],
      "text/plain": [
       "        movieId                                              title  \\\n",
       "100406    81132                                      rubber (2010)   \n",
       "99509     76153  lupin iii: first contact (rupan sansei: faasut...   \n",
       "87617     26701  patlabor: the movie (kidô keisatsu patorebâ: t...   \n",
       "99421     75408  lupin iii: sweet lost night (rupan sansei: swe...   \n",
       "59398      2987                    who framed roger rabbit? (1988)   \n",
       "...         ...                                                ...   \n",
       "101431    87485                                 bad teacher (2011)   \n",
       "103118    99106                             guilt trip, the (2012)   \n",
       "103873   106062               jackass presents: bad grandpa (2013)   \n",
       "104499   112497                                       tammy (2014)   \n",
       "104996   121308                      goodbye to language 3d (2014)   \n",
       "\n",
       "                                                   genres  userId  rating  \\\n",
       "100406  [0.2373243158663711, 0.2713954236595731, 0.0, ...     475     3.0   \n",
       "99509   [0.333208883273989, 0.0, 0.5087710456264056, 0...     475     4.0   \n",
       "87617   [0.24269919005759036, 0.0, 0.37057331570824, 0...     475     3.0   \n",
       "99421   [0.333208883273989, 0.0, 0.5087710456264056, 0...     475     2.5   \n",
       "59398   [0.0, 0.34568100183414024, 0.461552434191275, ...       4     5.0   \n",
       "...                                                   ...     ...     ...   \n",
       "101431  [0.0, 0.0, 0.0, 0.0, 1.0, 0.0, 0.0, 0.0, 0.0, ...     224     0.5   \n",
       "103118  [0.0, 0.0, 0.0, 0.0, 1.0, 0.0, 0.0, 0.0, 0.0, ...     642     0.5   \n",
       "103873  [0.0, 0.0, 0.0, 0.0, 1.0, 0.0, 0.0, 0.0, 0.0, ...     642     0.5   \n",
       "104499  [0.0, 0.0, 0.0, 0.0, 1.0, 0.0, 0.0, 0.0, 0.0, ...     642     0.5   \n",
       "104996  [0.0, 0.0, 0.0, 0.0, 0.0, 0.0, 0.0, 1.0, 0.0, ...     668     0.5   \n",
       "\n",
       "         timestamp                                   tokenized_genres  \\\n",
       "100406  1314524206  [action, adventure, comedy, crime, drama, film...   \n",
       "99509   1305330334  [action, animation, comedy, crime, drama, myst...   \n",
       "87617   1339949519  [action, animation, crime, drama, film-noir, m...   \n",
       "99421   1305328872  [action, animation, comedy, crime, drama, myst...   \n",
       "59398    950324532  [adventure, animation, children, comedy, crime...   \n",
       "...            ...                                                ...   \n",
       "101431  1428133228                                           [comedy]   \n",
       "103118  1439772676                                           [comedy]   \n",
       "103873  1439772279                                           [comedy]   \n",
       "104499  1439772937                                           [comedy]   \n",
       "104996  1431030402                                            [drama]   \n",
       "\n",
       "                                             string_genre  cluster  \\\n",
       "100406  action,adventure,comedy,crime,drama,film-noir,...        0   \n",
       "99509   action,animation,comedy,crime,drama,mystery,ro...        0   \n",
       "87617   action,animation,crime,drama,film-noir,mystery...        0   \n",
       "99421   action,animation,comedy,crime,drama,mystery,ro...        0   \n",
       "59398   adventure,animation,children,comedy,crime,fant...        0   \n",
       "...                                                   ...      ...   \n",
       "101431                                            comedy,        2   \n",
       "103118                                            comedy,        2   \n",
       "103873                                            comedy,        2   \n",
       "104499                                            comedy,        2   \n",
       "104996                                             drama,        3   \n",
       "\n",
       "        genres_count  \n",
       "100406          10.0  \n",
       "99509            8.0  \n",
       "87617            8.0  \n",
       "99421            8.0  \n",
       "59398            7.0  \n",
       "...              ...  \n",
       "101431           1.0  \n",
       "103118           1.0  \n",
       "103873           1.0  \n",
       "104499           1.0  \n",
       "104996           1.0  \n",
       "\n",
       "[10323 rows x 10 columns]"
      ]
     },
     "execution_count": 93,
     "metadata": {},
     "output_type": "execute_result"
    }
   ],
   "source": [
    "# sorting movies based on max_genres and ratings( out of 5)\n",
    "# genres_count in descending order, ratings descending order\n",
    "movies_recommended = movies_final_df.sort_values(['genres_count', 'rating'], ascending=[False, False])\n",
    "movies_recommended"
   ]
  },
  {
   "cell_type": "code",
   "execution_count": 95,
   "metadata": {},
   "outputs": [
    {
     "data": {
      "text/plain": [
       "100406    rubber (2010)\n",
       "Name: title, dtype: object"
      ]
     },
     "execution_count": 95,
     "metadata": {},
     "output_type": "execute_result"
    }
   ],
   "source": [
    "#Top movie found\n",
    "movies_recommended.title.head(1)"
   ]
  },
  {
   "cell_type": "code",
   "execution_count": 96,
   "metadata": {},
   "outputs": [
    {
     "data": {
      "text/plain": [
       "100406                                        rubber (2010)\n",
       "99509     lupin iii: first contact (rupan sansei: faasut...\n",
       "87617     patlabor: the movie (kidô keisatsu patorebâ: t...\n",
       "99421     lupin iii: sweet lost night (rupan sansei: swe...\n",
       "59398                       who framed roger rabbit? (1988)\n",
       "Name: title, dtype: object"
      ]
     },
     "execution_count": 96,
     "metadata": {},
     "output_type": "execute_result"
    }
   ],
   "source": [
    "# Top 5 movies_recomended\n",
    "movies_recommended.title.head()"
   ]
  },
  {
   "cell_type": "code",
   "execution_count": null,
   "metadata": {},
   "outputs": [],
   "source": []
  }
 ],
 "metadata": {
  "kernelspec": {
   "display_name": "Python 3",
   "language": "python",
   "name": "python3"
  },
  "language_info": {
   "codemirror_mode": {
    "name": "ipython",
    "version": 3
   },
   "file_extension": ".py",
   "mimetype": "text/x-python",
   "name": "python",
   "nbconvert_exporter": "python",
   "pygments_lexer": "ipython3",
   "version": "3.7.6"
  }
 },
 "nbformat": 4,
 "nbformat_minor": 4
}
